{
 "cells": [
  {
   "cell_type": "markdown",
   "metadata": {},
   "source": [
    "# Problem 1: Simple Iterative Solvers"
   ]
  },
  {
   "cell_type": "code",
   "execution_count": 27,
   "metadata": {},
   "outputs": [],
   "source": [
    "import numpy as np\n",
    "import matplotlib.pyplot as plt"
   ]
  },
  {
   "cell_type": "code",
   "execution_count": 28,
   "metadata": {},
   "outputs": [],
   "source": [
    "e = 0.100 #eccentricity\n",
    "M = 5 #mean anomaly\n",
    "E = []\n",
    "Eold = M\n",
    "E.append(np.deg2rad(Eold))"
   ]
  },
  {
   "cell_type": "code",
   "execution_count": 31,
   "metadata": {},
   "outputs": [],
   "source": [
    "while True:\n",
    "    Enew = np.deg2rad(M) + e * np.sin(np.deg2rad(Eold))\n",
    "    Eold = Enew\n",
    "    \n",
    "    if np.absolute(Enew - E[-1]) < np.deg2rad(0.000001):\n",
    "        break\n",
    "    E.append(Enew)\n",
    "    \n",
    "E = np.rad2deg(E[:])"
   ]
  },
  {
   "cell_type": "code",
   "execution_count": 32,
   "metadata": {},
   "outputs": [],
   "source": [
    "import pandas as pd\n",
    "\n",
    "df = pd.DataFrame(E)\n",
    "df2 = df.T\n",
    "\n",
    "for i in range(len(E)):\n",
    "    df2.rename(columns={i: 'E'+str(i)}, inplace=True)\n",
    "\n",
    "df2.to_csv('/Users/mmijjum/Desktop/third_year/Jupyter_Notebooks/module05-prob01-03-kepler_solvers-mmijjum/data/module05-prob01-output.csv', sep=',',index=False)"
   ]
  },
  {
   "cell_type": "markdown",
   "metadata": {},
   "source": [
    "# Problem 2: Newton - Raphson"
   ]
  },
  {
   "cell_type": "code",
   "execution_count": 33,
   "metadata": {},
   "outputs": [],
   "source": [
    "e = 0.100 #eccentricity\n",
    "M = np.deg2rad(5) #mean anomaly\n",
    "E = []\n",
    "Eold = M \n",
    "E.append(Eold)"
   ]
  },
  {
   "cell_type": "code",
   "execution_count": 34,
   "metadata": {},
   "outputs": [],
   "source": [
    "while True:\n",
    "    Enew = Eold - (Eold - e*np.sin(Eold) - M)/(1-e*np.cos(Eold))\n",
    "    Eold = Enew \n",
    "\n",
    "    if np.absolute(Enew - E[-1]) < np.deg2rad(0.000001):\n",
    "        break\n",
    "    \n",
    "    E.append(Enew)\n",
    "E = np.rad2deg(E[:])"
   ]
  },
  {
   "cell_type": "code",
   "execution_count": 36,
   "metadata": {},
   "outputs": [],
   "source": [
    "import pandas as pd\n",
    "\n",
    "df = pd.DataFrame(E)\n",
    "df3 = df.T\n",
    "\n",
    "for i in range(len(E)):\n",
    "    df3.rename(columns={i: 'E'+str(i)}, inplace=True)\n",
    "\n",
    "df3.to_csv('/Users/mmijjum/Desktop/third_year/Jupyter_Notebooks/module05-prob01-03-kepler_solvers-mmijjum/data/module05-prob02-output.csv', sep=',',index=False)"
   ]
  },
  {
   "cell_type": "markdown",
   "metadata": {},
   "source": [
    "## Problem 3: Danby"
   ]
  },
  {
   "cell_type": "code",
   "execution_count": 37,
   "metadata": {},
   "outputs": [],
   "source": [
    "M = np.deg2rad(5) #mean anomaly\n",
    "E = []\n",
    "Eold = M \n",
    "E.append(Eold)"
   ]
  },
  {
   "cell_type": "code",
   "execution_count": 38,
   "metadata": {},
   "outputs": [],
   "source": [
    "while True:\n",
    "    fold = Eold - e * np.sin(Eold) - M\n",
    "    fprime_old = 1 - e*np.cos(Eold)\n",
    "    fdoubleprime_old = e*np.sin(Eold)\n",
    "    ftripleprime_old = e*np.cos(Eold)\n",
    "    \n",
    "    delta11 = - fold/fprime_old\n",
    "    delta12 = - fold/(fprime_old + (1/2 * delta11 * fdoubleprime_old))\n",
    "    delta13 = - fold / (fprime_old + (1/2 * delta12 * fdoubleprime_old) + (1/6 * delta12**2 * ftripleprime_old))\n",
    "\n",
    "    Enew = Eold + delta13\n",
    "    Eold = Enew\n",
    "    \n",
    "   \n",
    "    if np.absolute(Enew - E[-1]) < np.deg2rad(0.000001):\n",
    "        break\n",
    "    E.append(Enew)\n",
    "\n",
    "E = np.rad2deg(E[:])"
   ]
  },
  {
   "cell_type": "code",
   "execution_count": 39,
   "metadata": {},
   "outputs": [],
   "source": [
    "import pandas as pd\n",
    "\n",
    "df = pd.DataFrame(E)\n",
    "df4 = df.T\n",
    "\n",
    "for i in range(len(E)):\n",
    "    df4.rename(columns={i: 'E'+str(i)}, inplace=True)\n",
    "\n",
    "df4.to_csv('/Users/mmijjum/Desktop/third_year/Jupyter_Notebooks/module05-prob01-03-kepler_solvers-mmijjum/data/module05-prob03-output.csv', sep=',',index=False)"
   ]
  },
  {
   "cell_type": "code",
   "execution_count": null,
   "metadata": {},
   "outputs": [],
   "source": []
  },
  {
   "cell_type": "code",
   "execution_count": null,
   "metadata": {},
   "outputs": [],
   "source": []
  }
 ],
 "metadata": {
  "kernelspec": {
   "display_name": "Python 3",
   "language": "python",
   "name": "python3"
  },
  "language_info": {
   "codemirror_mode": {
    "name": "ipython",
    "version": 3
   },
   "file_extension": ".py",
   "mimetype": "text/x-python",
   "name": "python",
   "nbconvert_exporter": "python",
   "pygments_lexer": "ipython3",
   "version": "3.8.3"
  }
 },
 "nbformat": 4,
 "nbformat_minor": 4
}
